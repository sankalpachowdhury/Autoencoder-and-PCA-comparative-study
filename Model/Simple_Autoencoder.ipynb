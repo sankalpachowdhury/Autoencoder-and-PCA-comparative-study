{
  "nbformat": 4,
  "nbformat_minor": 0,
  "metadata": {
    "colab": {
      "name": "Simple_Autoencoder.ipynb",
      "provenance": [],
      "authorship_tag": "ABX9TyOobw+oQhOpdu0VQCGJo+r0",
      "include_colab_link": true
    },
    "kernelspec": {
      "name": "python3",
      "display_name": "Python 3"
    }
  },
  "cells": [
    {
      "cell_type": "markdown",
      "metadata": {
        "id": "view-in-github",
        "colab_type": "text"
      },
      "source": [
        "<a href=\"https://colab.research.google.com/github/sankalpachowdhury/Autoencoder-and-PCA-comparative-study/blob/master/Model/Simple_Autoencoder.ipynb\" target=\"_parent\"><img src=\"https://colab.research.google.com/assets/colab-badge.svg\" alt=\"Open In Colab\"/></a>"
      ]
    },
    {
      "cell_type": "code",
      "metadata": {
        "id": "xvBrgZrG8ep5",
        "colab_type": "code",
        "colab": {}
      },
      "source": [
        "import os\n",
        "from matplotlib import  pyplot as plt\n",
        "import tensorflow as tf\n",
        "from tensorflow import keras\n",
        "from keras.preprocessing.image import ImageDataGenerator as IDG\n",
        "from keras.models import Sequential\n",
        "from keras.layers import Conv2D, MaxPool2D, Dense, Flatten, BatchNormalization, Activation, Dropout\n",
        "from keras.optimizers import Adam\n",
        "from keras.datasets import mnist\n",
        "from keras."
      ],
      "execution_count": 2,
      "outputs": []
    },
    {
      "cell_type": "code",
      "metadata": {
        "id": "zTnCXVnuK0Tt",
        "colab_type": "code",
        "colab": {}
      },
      "source": [
        "(train_images, train_labels),(test_images, test_labels) = mnist.load_data()"
      ],
      "execution_count": 64,
      "outputs": []
    },
    {
      "cell_type": "code",
      "metadata": {
        "id": "frOaCp4uLObe",
        "colab_type": "code",
        "colab": {}
      },
      "source": [
        "# Data visualization"
      ],
      "execution_count": 65,
      "outputs": []
    },
    {
      "cell_type": "code",
      "metadata": {
        "id": "Oa5hmozIMqCs",
        "colab_type": "code",
        "colab": {}
      },
      "source": [
        "train_images = train_images.reshape(60000,784,)\n",
        "train_images = train_images/255.0\n"
      ],
      "execution_count": 66,
      "outputs": []
    },
    {
      "cell_type": "code",
      "metadata": {
        "id": "-zc5nkp7LRR6",
        "colab_type": "code",
        "colab": {
          "base_uri": "https://localhost:8080/",
          "height": 490
        },
        "outputId": "f79afed4-d520-4ea9-ee8e-c1d279787af0"
      },
      "source": [
        "batch_size = 128\n",
        "model = Sequential([Dense(784, activation='relu', input_shape =(784,)),\n",
        "                    Dense(1000, activation='relu'),\n",
        "                    Dense(500, activation='relu'),\n",
        "                    Dense(250, activation='relu'),\n",
        "                    Dense(30, activation='relu'),\n",
        "                    Dense(250, activation='relu'),\n",
        "                    Dense(500, activation='relu'),\n",
        "                    Dense(1000, activation='relu'),\n",
        "                    Dense(784, activation='sigmoid')])\n",
        "\n",
        "model.summary()\n"
      ],
      "execution_count": 67,
      "outputs": [
        {
          "output_type": "stream",
          "text": [
            "Model: \"sequential_5\"\n",
            "_________________________________________________________________\n",
            "Layer (type)                 Output Shape              Param #   \n",
            "=================================================================\n",
            "dense_45 (Dense)             (None, 784)               615440    \n",
            "_________________________________________________________________\n",
            "dense_46 (Dense)             (None, 1000)              785000    \n",
            "_________________________________________________________________\n",
            "dense_47 (Dense)             (None, 500)               500500    \n",
            "_________________________________________________________________\n",
            "dense_48 (Dense)             (None, 250)               125250    \n",
            "_________________________________________________________________\n",
            "dense_49 (Dense)             (None, 30)                7530      \n",
            "_________________________________________________________________\n",
            "dense_50 (Dense)             (None, 250)               7750      \n",
            "_________________________________________________________________\n",
            "dense_51 (Dense)             (None, 500)               125500    \n",
            "_________________________________________________________________\n",
            "dense_52 (Dense)             (None, 1000)              501000    \n",
            "_________________________________________________________________\n",
            "dense_53 (Dense)             (None, 784)               784784    \n",
            "=================================================================\n",
            "Total params: 3,452,754\n",
            "Trainable params: 3,452,754\n",
            "Non-trainable params: 0\n",
            "_________________________________________________________________\n"
          ],
          "name": "stdout"
        }
      ]
    },
    {
      "cell_type": "code",
      "metadata": {
        "id": "mxCJqTLjNEi_",
        "colab_type": "code",
        "colab": {
          "base_uri": "https://localhost:8080/",
          "height": 399
        },
        "outputId": "56971492-f975-4033-f693-39a1693e3270"
      },
      "source": [
        "model.compile(optimizer=Adam(lr=0.0001), loss = 'mse', metrics=['acc'])\n",
        "mc = m\n",
        "model.fit(x = train_images, y = train_images, epochs=10, batch_size=64, verbose = 1)"
      ],
      "execution_count": 68,
      "outputs": [
        {
          "output_type": "stream",
          "text": [
            "Epoch 1/10\n",
            "938/938 [==============================] - 44s 47ms/step - loss: 0.0481 - acc: 0.0087\n",
            "Epoch 2/10\n",
            "938/938 [==============================] - 44s 47ms/step - loss: 0.0214 - acc: 0.0092\n",
            "Epoch 3/10\n",
            "938/938 [==============================] - 44s 47ms/step - loss: 0.0163 - acc: 0.0095\n",
            "Epoch 4/10\n",
            "938/938 [==============================] - 49s 52ms/step - loss: 0.0136 - acc: 0.0102\n",
            "Epoch 5/10\n",
            "938/938 [==============================] - 47s 50ms/step - loss: 0.0120 - acc: 0.0110\n",
            "Epoch 6/10\n",
            "938/938 [==============================] - 45s 48ms/step - loss: 0.0109 - acc: 0.0122\n",
            "Epoch 7/10\n",
            "938/938 [==============================] - 44s 47ms/step - loss: 0.0100 - acc: 0.0125\n",
            "Epoch 8/10\n",
            "938/938 [==============================] - 45s 47ms/step - loss: 0.0094 - acc: 0.0130\n",
            "Epoch 9/10\n",
            "938/938 [==============================] - 45s 47ms/step - loss: 0.0089 - acc: 0.0136\n",
            "Epoch 10/10\n",
            "938/938 [==============================] - 49s 52ms/step - loss: 0.0085 - acc: 0.0143\n"
          ],
          "name": "stdout"
        },
        {
          "output_type": "execute_result",
          "data": {
            "text/plain": [
              "<tensorflow.python.keras.callbacks.History at 0x7f6c75117828>"
            ]
          },
          "metadata": {
            "tags": []
          },
          "execution_count": 68
        }
      ]
    },
    {
      "cell_type": "code",
      "metadata": {
        "id": "oLn4nz-VQil4",
        "colab_type": "code",
        "colab": {
          "base_uri": "https://localhost:8080/",
          "height": 165
        },
        "outputId": "93e48569-4653-4f1b-bc53-85740c114f4b"
      },
      "source": [
        "model.save(\"/content/model\")"
      ],
      "execution_count": 34,
      "outputs": [
        {
          "output_type": "stream",
          "text": [
            "WARNING:tensorflow:From /usr/local/lib/python3.6/dist-packages/tensorflow/python/training/tracking/tracking.py:111: Model.state_updates (from tensorflow.python.keras.engine.training) is deprecated and will be removed in a future version.\n",
            "Instructions for updating:\n",
            "This property should not be used in TensorFlow 2.0, as updates are applied automatically.\n",
            "WARNING:tensorflow:From /usr/local/lib/python3.6/dist-packages/tensorflow/python/training/tracking/tracking.py:111: Layer.updates (from tensorflow.python.keras.engine.base_layer) is deprecated and will be removed in a future version.\n",
            "Instructions for updating:\n",
            "This property should not be used in TensorFlow 2.0, as updates are applied automatically.\n",
            "INFO:tensorflow:Assets written to: /content/model/assets\n"
          ],
          "name": "stdout"
        }
      ]
    },
    {
      "cell_type": "code",
      "metadata": {
        "id": "kpZ8HhatUyp0",
        "colab_type": "code",
        "colab": {}
      },
      "source": [
        "img1 = train_images[0].reshape(1,784)\n",
        "img2 = model.predict(img1)"
      ],
      "execution_count": 74,
      "outputs": []
    },
    {
      "cell_type": "code",
      "metadata": {
        "id": "YgU84HUGU-xl",
        "colab_type": "code",
        "colab": {}
      },
      "source": [
        "img2 = img2.reshape(28,28)"
      ],
      "execution_count": 75,
      "outputs": []
    },
    {
      "cell_type": "code",
      "metadata": {
        "id": "p-N4uWnwVBWl",
        "colab_type": "code",
        "colab": {
          "base_uri": "https://localhost:8080/",
          "height": 283
        },
        "outputId": "acf99c30-2d34-4aa5-90a5-4cf525177087"
      },
      "source": [
        "plt.imshow(img2)"
      ],
      "execution_count": 76,
      "outputs": [
        {
          "output_type": "execute_result",
          "data": {
            "text/plain": [
              "<matplotlib.image.AxesImage at 0x7f6c73df8c18>"
            ]
          },
          "metadata": {
            "tags": []
          },
          "execution_count": 76
        },
        {
          "output_type": "display_data",
          "data": {
            "image/png": "[encoded data removed]",
            "text/plain": [
              "<Figure size 432x288 with 1 Axes>"
            ]
          },
          "metadata": {
            "tags": [],
            "needs_background": "light"
          }
        }
      ]
    },
    {
      "cell_type": "code",
      "metadata": {
        "id": "6DKC-vyMVoQS",
        "colab_type": "code",
        "colab": {}
      },
      "source": [
        "img1 = img1.reshape(28,28)"
      ],
      "execution_count": 77,
      "outputs": []
    },
    {
      "cell_type": "code",
      "metadata": {
        "id": "7GJdptoPWKMr",
        "colab_type": "code",
        "colab": {
          "base_uri": "https://localhost:8080/",
          "height": 35
        },
        "outputId": "d9aa1167-75eb-493b-9538-5ce8f6fb279b"
      },
      "source": [
        "img1.shape"
      ],
      "execution_count": 78,
      "outputs": [
        {
          "output_type": "execute_result",
          "data": {
            "text/plain": [
              "(28, 28)"
            ]
          },
          "metadata": {
            "tags": []
          },
          "execution_count": 78
        }
      ]
    },
    {
      "cell_type": "code",
      "metadata": {
        "id": "JTNZLlxDWczU",
        "colab_type": "code",
        "colab": {
          "base_uri": "https://localhost:8080/",
          "height": 283
        },
        "outputId": "0d5ce5b0-5157-4f3b-bc52-e0bb520c6f8e"
      },
      "source": [
        "plt.imshow(img1)"
      ],
      "execution_count": 79,
      "outputs": [
        {
          "output_type": "execute_result",
          "data": {
            "text/plain": [
              "<matplotlib.image.AxesImage at 0x7f6c73da46a0>"
            ]
          },
          "metadata": {
            "tags": []
          },
          "execution_count": 79
        },
        {
          "output_type": "display_data",
          "data": {
            "image/png": "[encoded data removed]",
            "text/plain": [
              "<Figure size 432x288 with 1 Axes>"
            ]
          },
          "metadata": {
            "tags": [],
            "needs_background": "light"
          }
        }
      ]
    },
    {
      "cell_type": "code",
      "metadata": {
        "id": "XgqP7lEhWhiQ",
        "colab_type": "code",
        "colab": {}
      },
      "source": [
        ""
      ],
      "execution_count": null,
      "outputs": []
    }
  ]
}